{
 "cells": [
  {
   "attachments": {},
   "cell_type": "markdown",
   "metadata": {},
   "source": [
    "# Spam Email Classification"
   ]
  },
  {
   "attachments": {},
   "cell_type": "markdown",
   "metadata": {},
   "source": [
    "### loading data"
   ]
  },
  {
   "cell_type": "code",
   "execution_count": 1,
   "metadata": {},
   "outputs": [],
   "source": [
    "from sklearn.datasets import load_files\n",
    "\n",
    "data = load_files(\"emails\")"
   ]
  },
  {
   "cell_type": "code",
   "execution_count": 2,
   "metadata": {},
   "outputs": [
    {
     "name": "stdout",
     "output_type": "stream",
     "text": [
      "dict_keys(['data', 'filenames', 'target_names', 'target', 'DESCR'])\n"
     ]
    }
   ],
   "source": [
    "print((data.keys()))"
   ]
  },
  {
   "attachments": {},
   "cell_type": "markdown",
   "metadata": {},
   "source": [
    "### Train Test Split"
   ]
  },
  {
   "cell_type": "code",
   "execution_count": 3,
   "metadata": {},
   "outputs": [],
   "source": [
    "from sklearn.model_selection import train_test_split\n",
    "\n",
    "X_train,X_test,y_train,y_test = train_test_split(data.data,data.target)\n"
   ]
  },
  {
   "cell_type": "code",
   "execution_count": 4,
   "metadata": {},
   "outputs": [
    {
     "name": "stdout",
     "output_type": "stream",
     "text": [
      "number of training data :  7011\n",
      "number of testing data :  2338\n"
     ]
    }
   ],
   "source": [
    "print(\"number of training data : \",len(X_train))\n",
    "print(\"number of testing data : \",len(X_test))"
   ]
  },
  {
   "cell_type": "code",
   "execution_count": 5,
   "metadata": {},
   "outputs": [
    {
     "data": {
      "image/png": "[encoded data removed]",
      "text/plain": [
       "<Figure size 200x200 with 1 Axes>"
      ]
     },
     "metadata": {},
     "output_type": "display_data"
    }
   ],
   "source": [
    "import matplotlib.pyplot as plt\n",
    "\n",
    "plt.figure(figsize=(2,2))\n",
    "plt.hist(y_train,2,edgecolor=\"black\")\n",
    "plt.show()"
   ]
  },
  {
   "attachments": {},
   "cell_type": "markdown",
   "metadata": {},
   "source": [
    "Data is imbalanced"
   ]
  },
  {
   "attachments": {},
   "cell_type": "markdown",
   "metadata": {},
   "source": [
    "### applying a simple count vectorizer"
   ]
  },
  {
   "cell_type": "code",
   "execution_count": 6,
   "metadata": {},
   "outputs": [
    {
     "data": {
      "text/html": [
       "<style>#sk-container-id-1 {color: black;background-color: white;}#sk-container-id-1 pre{padding: 0;}#sk-container-id-1 div.sk-toggleable {background-color: white;}#sk-container-id-1 label.sk-toggleable__label {cursor: pointer;display: block;width: 100%;margin-bottom: 0;padding: 0.3em;box-sizing: border-box;text-align: center;}#sk-container-id-1 label.sk-toggleable__label-arrow:before {content: \"▸\";float: left;margin-right: 0.25em;color: #696969;}#sk-container-id-1 label.sk-toggleable__label-arrow:hover:before {color: black;}#sk-container-id-1 div.sk-estimator:hover label.sk-toggleable__label-arrow:before {color: black;}#sk-container-id-1 div.sk-toggleable__content {max-height: 0;max-width: 0;overflow: hidden;text-align: left;background-color: #f0f8ff;}#sk-container-id-1 div.sk-toggleable__content pre {margin: 0.2em;color: black;border-radius: 0.25em;background-color: #f0f8ff;}#sk-container-id-1 input.sk-toggleable__control:checked~div.sk-toggleable__content {max-height: 200px;max-width: 100%;overflow: auto;}#sk-container-id-1 input.sk-toggleable__control:checked~label.sk-toggleable__label-arrow:before {content: \"▾\";}#sk-container-id-1 div.sk-estimator input.sk-toggleable__control:checked~label.sk-toggleable__label {background-color: #d4ebff;}#sk-container-id-1 div.sk-label input.sk-toggleable__control:checked~label.sk-toggleable__label {background-color: #d4ebff;}#sk-container-id-1 input.sk-hidden--visually {border: 0;clip: rect(1px 1px 1px 1px);clip: rect(1px, 1px, 1px, 1px);height: 1px;margin: -1px;overflow: hidden;padding: 0;position: absolute;width: 1px;}#sk-container-id-1 div.sk-estimator {font-family: monospace;background-color: #f0f8ff;border: 1px dotted black;border-radius: 0.25em;box-sizing: border-box;margin-bottom: 0.5em;}#sk-container-id-1 div.sk-estimator:hover {background-color: #d4ebff;}#sk-container-id-1 div.sk-parallel-item::after {content: \"\";width: 100%;border-bottom: 1px solid gray;flex-grow: 1;}#sk-container-id-1 div.sk-label:hover label.sk-toggleable__label {background-color: #d4ebff;}#sk-container-id-1 div.sk-serial::before {content: \"\";position: absolute;border-left: 1px solid gray;box-sizing: border-box;top: 0;bottom: 0;left: 50%;z-index: 0;}#sk-container-id-1 div.sk-serial {display: flex;flex-direction: column;align-items: center;background-color: white;padding-right: 0.2em;padding-left: 0.2em;position: relative;}#sk-container-id-1 div.sk-item {position: relative;z-index: 1;}#sk-container-id-1 div.sk-parallel {display: flex;align-items: stretch;justify-content: center;background-color: white;position: relative;}#sk-container-id-1 div.sk-item::before, #sk-container-id-1 div.sk-parallel-item::before {content: \"\";position: absolute;border-left: 1px solid gray;box-sizing: border-box;top: 0;bottom: 0;left: 50%;z-index: -1;}#sk-container-id-1 div.sk-parallel-item {display: flex;flex-direction: column;z-index: 1;position: relative;background-color: white;}#sk-container-id-1 div.sk-parallel-item:first-child::after {align-self: flex-end;width: 50%;}#sk-container-id-1 div.sk-parallel-item:last-child::after {align-self: flex-start;width: 50%;}#sk-container-id-1 div.sk-parallel-item:only-child::after {width: 0;}#sk-container-id-1 div.sk-dashed-wrapped {border: 1px dashed gray;margin: 0 0.4em 0.5em 0.4em;box-sizing: border-box;padding-bottom: 0.4em;background-color: white;}#sk-container-id-1 div.sk-label label {font-family: monospace;font-weight: bold;display: inline-block;line-height: 1.2em;}#sk-container-id-1 div.sk-label-container {text-align: center;}#sk-container-id-1 div.sk-container {/* jupyter's `normalize.less` sets `[hidden] { display: none; }` but bootstrap.min.css set `[hidden] { display: none !important; }` so we also need the `!important` here to be able to override the default hidden behavior on the sphinx rendered scikit-learn.org. See: https://github.com/scikit-learn/scikit-learn/issues/21755 */display: inline-block !important;position: relative;}#sk-container-id-1 div.sk-text-repr-fallback {display: none;}</style><div id=\"sk-container-id-1\" class=\"sk-top-container\"><div class=\"sk-text-repr-fallback\"><pre>CountVectorizer(encoding=&#x27;mac-roman&#x27;)</pre><b>In a Jupyter environment, please rerun this cell to show the HTML representation or trust the notebook. <br />On GitHub, the HTML representation is unable to render, please try loading this page with nbviewer.org.</b></div><div class=\"sk-container\" hidden><div class=\"sk-item\"><div class=\"sk-estimator sk-toggleable\"><input class=\"sk-toggleable__control sk-hidden--visually\" id=\"sk-estimator-id-1\" type=\"checkbox\" checked><label for=\"sk-estimator-id-1\" class=\"sk-toggleable__label sk-toggleable__label-arrow\">CountVectorizer</label><div class=\"sk-toggleable__content\"><pre>CountVectorizer(encoding=&#x27;mac-roman&#x27;)</pre></div></div></div></div></div>"
      ],
      "text/plain": [
       "CountVectorizer(encoding='mac-roman')"
      ]
     },
     "execution_count": 6,
     "metadata": {},
     "output_type": "execute_result"
    }
   ],
   "source": [
    "from sklearn.feature_extraction.text import CountVectorizer\n",
    "\n",
    "cv = CountVectorizer(encoding=\"mac-roman\")\n",
    "cv.fit(X_train)"
   ]
  },
  {
   "cell_type": "code",
   "execution_count": 7,
   "metadata": {},
   "outputs": [
    {
     "name": "stdout",
     "output_type": "stream",
     "text": [
      "number of features : 154695\n",
      "every 2000th feature : ['00' '0209011641450' '1256' '1s7o7jbxj9s' '24cub2cqstifttbi' '3cdb7a8787'\n",
      " '4fqli9qdb2xclb4bgi4chr7w6tir' '6c115' '899ed16f16' 'a26683'\n",
      " 'aksyiqmivsf' 'b320a16f22' 'booty' 'cert_policy' 'cracking' 'desventajas'\n",
      " 'e19e6630' 'ew2ddule7tuhnhxuykplxmw3' 'fr99h29r' 'g6u6tpxx021306'\n",
      " 'g8q81uc06504' 'gpr9ha6jrlp3vl8soo5v2lweeovo1dq3n3fovlo5biyvkj7yt'\n",
      " 'htdig' 'incublogula' 'jnaqk1hkjzxilf8jafcexfeljwfwlwbl' 'lang_de'\n",
      " 'mailpoop' 'mtc' 'nwd2mhb1' 'parton' 'pri8mfo6'\n",
      " 'rb1tex7mtausoouwetbxdbn7rtzsy6qhsx9zv5ln567b' 's3mc9uvjacfc8f1'\n",
      " 'smtp0582' 'taa02190' 'tweak' 'vgyvbuvrf86coefs8bmv0m'\n",
      " 'wnwxn6usmj3chmujfstxhs26iuql76disiob7vytttbxe0mmseabmohbrldfn3vmbtpau'\n",
      " 'yyyyais007']\n"
     ]
    }
   ],
   "source": [
    "feature_names = cv.get_feature_names_out()\n",
    "print(\"number of features :\",len(feature_names))\n",
    "print(\"every 2000th feature :\",feature_names[::4000])"
   ]
  },
  {
   "attachments": {},
   "cell_type": "markdown",
   "metadata": {},
   "source": [
    "most of the features seems not to be meaningful<br>\n",
    "i will use min df to get rid of some codes and ...<br>\n",
    "and use max df to get rid of stop words (it will be tuned later)"
   ]
  },
  {
   "cell_type": "code",
   "execution_count": 8,
   "metadata": {},
   "outputs": [
    {
     "name": "stdout",
     "output_type": "stream",
     "text": [
      "number of features : 8954\n"
     ]
    }
   ],
   "source": [
    "cv = CountVectorizer(encoding=\"mac-roman\",min_df=10,max_df=50)\n",
    "cv.fit(X_train)\n",
    "vect_train_x = cv.transform(X_train)\n",
    "feature_names = cv.get_feature_names_out()\n",
    "print(\"number of features :\",len(feature_names))"
   ]
  },
  {
   "attachments": {},
   "cell_type": "markdown",
   "metadata": {},
   "source": [
    "its better now"
   ]
  },
  {
   "cell_type": "code",
   "execution_count": 9,
   "metadata": {},
   "outputs": [
    {
     "name": "stdout",
     "output_type": "stream",
     "text": [
      "every 1000th feature : ['00000' 'a12b' 'caramail' 'disclosure' 'ginger' 'lawyers' 'origin'\n",
      " 'retention' 'takemeoff']\n"
     ]
    }
   ],
   "source": [
    "print(\"every 1000th feature :\",feature_names[::1000])"
   ]
  },
  {
   "attachments": {},
   "cell_type": "markdown",
   "metadata": {},
   "source": [
    "### applying a simple Log Reg"
   ]
  },
  {
   "cell_type": "code",
   "execution_count": 10,
   "metadata": {},
   "outputs": [
    {
     "name": "stdout",
     "output_type": "stream",
     "text": [
      "0.9550949913644213\n"
     ]
    }
   ],
   "source": [
    "from sklearn.linear_model import LogisticRegression\n",
    "from sklearn.metrics import f1_score\n",
    "\n",
    "vect_test_x = cv.transform(X_test)\n",
    "log_reg = LogisticRegression(max_iter=10000).fit(vect_train_x,y_train)\n",
    "print(f1_score(y_test,log_reg.predict(vect_test_x)))"
   ]
  },
  {
   "cell_type": "markdown",
   "metadata": {},
   "source": [
    "### analyzing logreg coefs"
   ]
  },
  {
   "cell_type": "code",
   "execution_count": 11,
   "metadata": {},
   "outputs": [
    {
     "data": {
      "image/png": "[encoded data removed]",
      "text/plain": [
       "<Figure size 640x480 with 1 Axes>"
      ]
     },
     "metadata": {},
     "output_type": "display_data"
    }
   ],
   "source": [
    "import numpy as np\n",
    "def plot_largest_coefs(coef,feature_names):\n",
    "    log_reg_coef = np.argsort(coef)\n",
    "    largest_coefs =np.concatenate((log_reg_coef[:20],log_reg_coef[-20:]))\n",
    "    largest_coef_values = [coef[i] for i in largest_coefs]\n",
    "    largest_names = [feature_names[i] for i in largest_coefs]\n",
    "    plt.bar(largest_names,largest_coef_values)\n",
    "    plt.xticks(rotation=90)\n",
    "    plt.show()\n",
    "\n",
    "plot_largest_coefs(log_reg.coef_.squeeze(),feature_names)"
   ]
  },
  {
   "cell_type": "markdown",
   "metadata": {},
   "source": [
    "coefs found important by log reg is saynig that some of our features seems not to be informative but we know it can perform better, i will try tf idf and then tune its parameters for better feauture extraction"
   ]
  },
  {
   "cell_type": "code",
   "execution_count": 12,
   "metadata": {},
   "outputs": [
    {
     "name": "stdout",
     "output_type": "stream",
     "text": [
      "number of features : 21930\n",
      "every 1000th feature : ['00' '200px' '41' '_yw' 'ased' 'breeds' 'collar' 'david_hamilton3' 'duwe'\n",
      " 'factory' 'giants' 'hyperlinks' 'jour' 'madam' 'mutual' 'overregulation'\n",
      " 'print2' 'repackage' 'serving' 'story_page' 'tnt3' 'vir']\n"
     ]
    }
   ],
   "source": [
    "from sklearn.feature_extraction.text import TfidfVectorizer\n",
    "\n",
    "cv = TfidfVectorizer(encoding=\"mac-roman\",min_df=5,) # tfidf have control on word importance dont need to min and max df\n",
    "cv.fit(X_train)\n",
    "vect_train_x = cv.transform(X_train)\n",
    "feature_names = cv.get_feature_names_out()\n",
    "print(\"number of features :\",len(feature_names))\n",
    "print(\"every 1000th feature :\",feature_names[::1000])"
   ]
  },
  {
   "cell_type": "code",
   "execution_count": 13,
   "metadata": {},
   "outputs": [
    {
     "name": "stdout",
     "output_type": "stream",
     "text": [
      "0.9580536912751678\n"
     ]
    },
    {
     "data": {
      "image/png": "[encoded data removed]",
      "text/plain": [
       "<Figure size 640x480 with 1 Axes>"
      ]
     },
     "metadata": {},
     "output_type": "display_data"
    }
   ],
   "source": [
    "vect_test_x = cv.transform(X_test)\n",
    "log_reg = LogisticRegression(max_iter=10000).fit(vect_train_x,y_train)\n",
    "print(f1_score(y_test,log_reg.predict(vect_test_x)))\n",
    "plot_largest_coefs(log_reg.coef_.squeeze(),feature_names)\n"
   ]
  },
  {
   "cell_type": "markdown",
   "metadata": {},
   "source": [
    "good words has been found , but some tuning is still needed , i will first choose a good model for this task , sparse models should be better"
   ]
  },
  {
   "cell_type": "code",
   "execution_count": 14,
   "metadata": {},
   "outputs": [
    {
     "name": "stdout",
     "output_type": "stream",
     "text": [
      "auc score for some models :\n",
      "log reg l2 : 0.9970076637216907\n"
     ]
    },
    {
     "name": "stdout",
     "output_type": "stream",
     "text": [
      "log reg l1 : 0.9954966155015883\n",
      "bernoulli naive bayes : 0.9893689021668278\n",
      "multinomial naive bayes : 0.9805166940108153\n",
      "svm with poly kernel: 0.999020794673123\n",
      "svm with rbf kernel: 0.9994566370441055\n"
     ]
    }
   ],
   "source": [
    "from sklearn.metrics import roc_auc_score\n",
    "from sklearn.naive_bayes import BernoulliNB,MultinomialNB\n",
    "from sklearn.svm import SVC\n",
    "\n",
    "print(\"auc score for some models :\")\n",
    "print(\"log reg l2 :\",roc_auc_score(y_test,log_reg.decision_function(vect_test_x)))\n",
    "\n",
    "log_reg_l1 = LogisticRegression(penalty=\"l1\",solver='liblinear')\n",
    "log_reg_l1.fit(vect_train_x,y_train)\n",
    "print(\"log reg l1 :\",roc_auc_score(y_test,log_reg_l1.decision_function(vect_test_x)))\n",
    "\n",
    "bnb = BernoulliNB()\n",
    "bnb.fit(vect_train_x.toarray(),y_train)\n",
    "print(\"bernoulli naive bayes :\",roc_auc_score(y_test,bnb.predict_proba(vect_test_x.toarray())[:,1]))\n",
    "\n",
    "mnb = MultinomialNB()\n",
    "mnb.fit(vect_train_x.toarray(),y_train)\n",
    "print(\"multinomial naive bayes :\",roc_auc_score(y_test,mnb.predict_proba(vect_test_x.toarray())[:,1]))\n",
    "\n",
    "svc = SVC(kernel=\"poly\")\n",
    "svc.fit(vect_train_x,y_train)\n",
    "print(\"svm with poly kernel:\",roc_auc_score(y_test,svc.decision_function(vect_test_x)))\n",
    "\n",
    "svc = SVC(kernel=\"rbf\")\n",
    "svc.fit(vect_train_x,y_train)\n",
    "print(\"svm with rbf kernel:\",roc_auc_score(y_test,svc.decision_function(vect_test_x)))\n",
    "\n"
   ]
  },
  {
   "cell_type": "markdown",
   "metadata": {},
   "source": [
    "with this auc scores we can feel safe about imbalanced data , these models can handle it .<br>\n",
    "best model is svm (rbf kernel) with 99.94 auc but it's slower than others, feature extraction might help to get a good accuracy with l2 logreg"
   ]
  },
  {
   "cell_type": "markdown",
   "metadata": {},
   "source": [
    "### finding best tfidf params (will help to find good features)"
   ]
  },
  {
   "cell_type": "code",
   "execution_count": 15,
   "metadata": {},
   "outputs": [
    {
     "name": "stdout",
     "output_type": "stream",
     "text": [
      "best params : {'tfidfvectorizer__min_df': 5, 'tfidfvectorizer__ngram_range': (1, 5)}\n",
      "best score : 0.974326424722892\n"
     ]
    }
   ],
   "source": [
    "params = {\"tfidfvectorizer__min_df\":[5,10,20],\"tfidfvectorizer__ngram_range\":[(1,3),(1,4),(1,5)]}\n",
    "\n",
    "from sklearn.pipeline import make_pipeline\n",
    "from sklearn.model_selection import GridSearchCV\n",
    "\n",
    "pipe = make_pipeline(TfidfVectorizer(encoding=\"mac-roman\"),LogisticRegression(max_iter=10000))\n",
    "grid = GridSearchCV(pipe,param_grid=params,cv=2)\n",
    "grid.fit(X_train,y_train)\n",
    "print(\"best params :\",grid.best_params_)\n",
    "print(\"best score :\",grid.best_score_)"
   ]
  },
  {
   "cell_type": "markdown",
   "metadata": {},
   "source": [
    "with this tfidf setting we achived very much better than the simple count vectorizer<br>\n",
    "min df 5 and ngram (1,5) works well, lets decide between svm and logreg (increasing ngram range more than this is expensive !)"
   ]
  },
  {
   "cell_type": "code",
   "execution_count": 16,
   "metadata": {},
   "outputs": [
    {
     "name": "stdout",
     "output_type": "stream",
     "text": [
      "svm score : 0.9927288280581694\n",
      "svm train score : 0.9985736699472257\n"
     ]
    }
   ],
   "source": [
    "best_min_df,best_ngram = grid.best_params_[\"tfidfvectorizer__min_df\"] ,grid.best_params_[\"tfidfvectorizer__ngram_range\"] \n",
    "pipe = make_pipeline(TfidfVectorizer(encoding=\"mac-roman\",min_df=best_min_df,ngram_range=best_ngram),\n",
    "                     SVC(kernel=\"rbf\"))\n",
    "pipe.fit(X_train,y_train)\n",
    "print(\"svm score :\",pipe.score(X_test,y_test))\n",
    "print(\"svm train score :\",pipe.score(X_train,y_train))\n"
   ]
  },
  {
   "cell_type": "markdown",
   "metadata": {},
   "source": [
    "99.3 acc achived,svm with rbf is much better than log reg, lets tune svm<br>\n",
    "train score is 0.999 which says that we are kinda overfitting<br>\n",
    "you can see that pipeline resulted in 2 minute , so grid 2*2 with cv 2 will take around 16 mins (bigger grid or cross val will take long)<br>\n",
    "i avoid grid searching , increasing gamma should do something but first i reduce c very little to reduce overfitting and get a better result"
   ]
  },
  {
   "cell_type": "markdown",
   "metadata": {},
   "source": [
    "### finding best svm params"
   ]
  },
  {
   "cell_type": "code",
   "execution_count": 24,
   "metadata": {},
   "outputs": [
    {
     "name": "stdout",
     "output_type": "stream",
     "text": [
      "svm score : 0.9927288280581694\n",
      "svm train score : 0.9980031379261161\n"
     ]
    }
   ],
   "source": [
    "pipe = make_pipeline(TfidfVectorizer(encoding=\"mac-roman\",min_df=best_min_df,ngram_range=best_ngram),\n",
    "                     SVC(kernel=\"rbf\",C=0.85))\n",
    "pipe.fit(X_train,y_train)\n",
    "print(\"svm score :\",pipe.score(X_test,y_test))\n",
    "print(\"svm train score :\",pipe.score(X_train,y_train))"
   ]
  },
  {
   "cell_type": "markdown",
   "metadata": {},
   "source": [
    "it seems we reduced overfitting , lets try to reduce more with gamma"
   ]
  },
  {
   "cell_type": "code",
   "execution_count": 26,
   "metadata": {},
   "outputs": [
    {
     "name": "stdout",
     "output_type": "stream",
     "text": [
      "svm score : 0.9923011120615911\n",
      "svm train score : 0.9975752389102839\n"
     ]
    }
   ],
   "source": [
    "pipe = make_pipeline(TfidfVectorizer(encoding=\"mac-roman\",min_df=best_min_df,ngram_range=best_ngram),\n",
    "                     SVC(kernel=\"rbf\",C=0.85,gamma=0.85))\n",
    "pipe.fit(X_train,y_train)\n",
    "print(\"svm score :\",pipe.score(X_test,y_test))\n",
    "print(\"svm train score :\",pipe.score(X_train,y_train))"
   ]
  },
  {
   "cell_type": "markdown",
   "metadata": {},
   "source": [
    "now model is underfitting , increasing gamma or c , will cause overfitting<br>\n",
    "so it seems we are on best setting.<br>\n",
    "final result is :"
   ]
  },
  {
   "cell_type": "code",
   "execution_count": 27,
   "metadata": {},
   "outputs": [
    {
     "name": "stdout",
     "output_type": "stream",
     "text": [
      "              precision    recall  f1-score   support\n",
      "\n",
      "           0       0.99      1.00      1.00      1739\n",
      "           1       0.99      0.98      0.99       599\n",
      "\n",
      "    accuracy                           0.99      2338\n",
      "   macro avg       0.99      0.99      0.99      2338\n",
      "weighted avg       0.99      0.99      0.99      2338\n",
      "\n"
     ]
    }
   ],
   "source": [
    "from sklearn.metrics import classification_report\n",
    "\n",
    "pipe = make_pipeline(TfidfVectorizer(encoding=\"mac-roman\",min_df=best_min_df,ngram_range=best_ngram),\n",
    "                     SVC(kernel=\"rbf\",C=0.85))\n",
    "pipe.fit(X_train,y_train)\n",
    "print(classification_report(y_test,pipe.predict(X_test)))"
   ]
  },
  {
   "cell_type": "markdown",
   "metadata": {},
   "source": [
    "99% f1 score achived"
   ]
  },
  {
   "cell_type": "code",
   "execution_count": 28,
   "metadata": {},
   "outputs": [
    {
     "name": "stdout",
     "output_type": "stream",
     "text": [
      "[[1731    8]\n",
      " [   9  590]]\n"
     ]
    }
   ],
   "source": [
    "from sklearn.metrics import confusion_matrix\n",
    "\n",
    "print(confusion_matrix(y_test,pipe.predict(X_test)))"
   ]
  },
  {
   "cell_type": "markdown",
   "metadata": {},
   "source": [
    "very small FN and FP ."
   ]
  }
 ],
 "metadata": {
  "kernelspec": {
   "display_name": "workshop",
   "language": "python",
   "name": "python3"
  },
  "language_info": {
   "codemirror_mode": {
    "name": "ipython",
    "version": 3
   },
   "file_extension": ".py",
   "mimetype": "text/x-python",
   "name": "python",
   "nbconvert_exporter": "python",
   "pygments_lexer": "ipython3",
   "version": "3.9.16"
  },
  "orig_nbformat": 4
 },
 "nbformat": 4,
 "nbformat_minor": 2
}
